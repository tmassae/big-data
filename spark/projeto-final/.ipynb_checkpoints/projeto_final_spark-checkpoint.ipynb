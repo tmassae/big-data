{
 "cells": [
  {
   "cell_type": "markdown",
   "metadata": {},
   "source": [
    "Autor: Tatiana Massae Sakata"
   ]
  },
  {
   "cell_type": "markdown",
   "metadata": {},
   "source": [
    "# <a name='inicio'> Projeto Final de Spark </a>"
   ]
  },
  {
   "cell_type": "markdown",
   "metadata": {},
   "source": [
    "\n",
    "Dados: https://bityli.com/eJhiDiYNj\n",
    "\n",
    "Referência das Visualizações:\n",
    "* Site: https://covid.saude.gov.br/\n",
    "* Guia do Site: Painel Geral"
   ]
  },
  {
   "cell_type": "markdown",
   "metadata": {},
   "source": [
    "* [Nivel Básico](#basico)\n",
    "    * [Questão 01](#questao01)\n",
    "    * [Questão 02](#questao02)\n",
    "    * [Questão 03](#questao03)\n",
    "    * [Questão 04](#questao04)\n",
    "    * [Questão 05](#questao05)\n",
    "    * [Questão 06](#questao06)\n",
    "    * [Questão 07](#questao07)\n",
    "    * [Questão 08](#questao08)\n",
    "    * [Questão 09](#questao09)\n",
    "* [Nivel Avançado](#avancado)\n",
    "    * [Questão 01](#questao11)\n",
    "    * [Questão 02](#questao12)\n",
    "    * [Questão 03](#questao13)\n",
    "    * [Questão 04](#questao14)\n",
    "    * [Questão 05](#questao15)\n",
    "    * [Questão 06](#questao16)\n",
    "    * [Questão 07](#questao17)\n",
    "    * [Questão 08](#questao18)\n",
    "    * [Questão 09](#questao19)"
   ]
  },
  {
   "cell_type": "markdown",
   "metadata": {},
   "source": [
    "## <a name=\"basico\"> Nivel Básico </a>"
   ]
  },
  {
   "cell_type": "markdown",
   "metadata": {},
   "source": [
    "### <a name=\"terminal\"> Preparação de arquivos e estruturação do projeto (terminal WSL2) </a>\n",
    "\n",
    "[voltar ao ínicio](#inicio)"
   ]
  },
  {
   "cell_type": "markdown",
   "metadata": {},
   "source": [
    "**Atividades realizadas no terminal**  \n",
    "\n",
    "Criação da pasta para o projeto:  \n",
    "!hdfs dfs -mkdir -p /user/tatiana/projeto-final-data-engineer  \n",
    "\n",
    "\n",
    "Envio dos arquivos para a pasta do projeto:  \n",
    "!hdfs dfs -put /input/covid19-br/* /user/tatiana/projeto-final-data-engineer"
   ]
  },
  {
   "cell_type": "code",
   "execution_count": 1,
   "metadata": {},
   "outputs": [],
   "source": [
    "from pyspark.sql import SQLContext\n",
    "from pyspark.sql import SparkSession\n",
    "from pyspark.sql import HiveContext\n",
    "from pyspark.sql.functions import *\n",
    "from pyspark.sql.types import *"
   ]
  },
  {
   "cell_type": "code",
   "execution_count": 2,
   "metadata": {},
   "outputs": [
    {
     "data": {
      "text/html": [
       "\n",
       "            <div>\n",
       "                <p><b>SparkSession - hive</b></p>\n",
       "                \n",
       "        <div>\n",
       "            <p><b>SparkContext</b></p>\n",
       "\n",
       "            <p><a href=\"http://jupyter-spark:4040\">Spark UI</a></p>\n",
       "\n",
       "            <dl>\n",
       "              <dt>Version</dt>\n",
       "                <dd><code>v2.4.1</code></dd>\n",
       "              <dt>Master</dt>\n",
       "                <dd><code>local[*]</code></dd>\n",
       "              <dt>AppName</dt>\n",
       "                <dd><code>pyspark-shell</code></dd>\n",
       "            </dl>\n",
       "        </div>\n",
       "        \n",
       "            </div>\n",
       "        "
      ],
      "text/plain": [
       "<pyspark.sql.session.SparkSession at 0x7f31085b9f98>"
      ]
     },
     "execution_count": 2,
     "metadata": {},
     "output_type": "execute_result"
    }
   ],
   "source": [
    "spark"
   ]
  },
  {
   "cell_type": "code",
   "execution_count": 3,
   "metadata": {},
   "outputs": [
    {
     "data": {
      "text/html": [
       "\n",
       "        <div>\n",
       "            <p><b>SparkContext</b></p>\n",
       "\n",
       "            <p><a href=\"http://jupyter-spark:4040\">Spark UI</a></p>\n",
       "\n",
       "            <dl>\n",
       "              <dt>Version</dt>\n",
       "                <dd><code>v2.4.1</code></dd>\n",
       "              <dt>Master</dt>\n",
       "                <dd><code>local[*]</code></dd>\n",
       "              <dt>AppName</dt>\n",
       "                <dd><code>pyspark-shell</code></dd>\n",
       "            </dl>\n",
       "        </div>\n",
       "        "
      ],
      "text/plain": [
       "<SparkContext master=local[*] appName=pyspark-shell>"
      ]
     },
     "execution_count": 3,
     "metadata": {},
     "output_type": "execute_result"
    }
   ],
   "source": [
    "sc"
   ]
  },
  {
   "cell_type": "code",
   "execution_count": 4,
   "metadata": {},
   "outputs": [],
   "source": [
    "spark.sparkContext.setLogLevel(\"INFO\")"
   ]
  },
  {
   "cell_type": "markdown",
   "metadata": {},
   "source": [
    "### <a name=\"questao01\"> Questão 1 - Enviar os dados para o hdfs </a>\n",
    "\n",
    "[voltar ao ínicio](#inicio)"
   ]
  },
  {
   "cell_type": "code",
   "execution_count": 5,
   "metadata": {
    "scrolled": true
   },
   "outputs": [
    {
     "name": "stdout",
     "output_type": "stream",
     "text": [
      "Found 5 items\r\n",
      "-rw-r--r--   3 root supergroup   12445782 2022-12-06 01:00 /user/tatiana/projeto-final-data-engineer/04bd3419b22b9cc5c6efac2c6528100d_HIST_PAINEL_COVIDBR_06jul2021.rar\r\n",
      "-rw-r--r--   3 root supergroup   62492959 2022-12-06 01:00 /user/tatiana/projeto-final-data-engineer/HIST_PAINEL_COVIDBR_2020_Parte1_06jul2021.csv\r\n",
      "-rw-r--r--   3 root supergroup   76520681 2022-12-06 01:00 /user/tatiana/projeto-final-data-engineer/HIST_PAINEL_COVIDBR_2020_Parte2_06jul2021.csv\r\n",
      "-rw-r--r--   3 root supergroup   91120916 2022-12-06 01:00 /user/tatiana/projeto-final-data-engineer/HIST_PAINEL_COVIDBR_2021_Parte1_06jul2021.csv\r\n",
      "-rw-r--r--   3 root supergroup    3046774 2022-12-06 01:00 /user/tatiana/projeto-final-data-engineer/HIST_PAINEL_COVIDBR_2021_Parte2_06jul2021.csv\r\n"
     ]
    }
   ],
   "source": [
    "#consultando os arquivo na pasta\n",
    "\n",
    "!hdfs dfs -ls /user/tatiana/projeto-final-data-engineer"
   ]
  },
  {
   "cell_type": "markdown",
   "metadata": {},
   "source": [
    "### <a name=\"questao02\"> Questão 2 - Otimizar todos os dados do hdfs para uma tabela Hive particionada por município. </a>\n",
    "\n",
    "[voltar ao ínicio](#inicio)"
   ]
  },
  {
   "cell_type": "code",
   "execution_count": 6,
   "metadata": {},
   "outputs": [],
   "source": [
    "data_covid_bruto = spark.read.csv(\"/user/tatiana/projeto-final-data-engineer/*csv\",\\\n",
    "                                 sep = \";\",\\\n",
    "                                 inferSchema= True,\\\n",
    "                                 header= True,\\\n",
    "                                 ignoreLeadingWhiteSpace= True,\\\n",
    "                                 mode= \"DROPMALFORMED\")"
   ]
  },
  {
   "cell_type": "code",
   "execution_count": 7,
   "metadata": {},
   "outputs": [
    {
     "name": "stdout",
     "output_type": "stream",
     "text": [
      "root\n",
      " |-- regiao: string (nullable = true)\n",
      " |-- estado: string (nullable = true)\n",
      " |-- municipio: string (nullable = true)\n",
      " |-- coduf: integer (nullable = true)\n",
      " |-- codmun: integer (nullable = true)\n",
      " |-- codRegiaoSaude: integer (nullable = true)\n",
      " |-- nomeRegiaoSaude: string (nullable = true)\n",
      " |-- data: timestamp (nullable = true)\n",
      " |-- semanaEpi: integer (nullable = true)\n",
      " |-- populacaoTCU2019: integer (nullable = true)\n",
      " |-- casosAcumulado: decimal(10,0) (nullable = true)\n",
      " |-- casosNovos: integer (nullable = true)\n",
      " |-- obitosAcumulado: integer (nullable = true)\n",
      " |-- obitosNovos: integer (nullable = true)\n",
      " |-- Recuperadosnovos: integer (nullable = true)\n",
      " |-- emAcompanhamentoNovos: integer (nullable = true)\n",
      " |-- interior/metropolitana: integer (nullable = true)\n",
      "\n"
     ]
    }
   ],
   "source": [
    "data_covid_bruto.printSchema()"
   ]
  },
  {
   "cell_type": "code",
   "execution_count": 8,
   "metadata": {},
   "outputs": [
    {
     "name": "stdout",
     "output_type": "stream",
     "text": [
      "+------+------+---------+-----+------+--------------+---------------+-------------------+---------+----------------+--------------+----------+---------------+-----------+----------------+---------------------+----------------------+\n",
      "|regiao|estado|municipio|coduf|codmun|codRegiaoSaude|nomeRegiaoSaude|               data|semanaEpi|populacaoTCU2019|casosAcumulado|casosNovos|obitosAcumulado|obitosNovos|Recuperadosnovos|emAcompanhamentoNovos|interior/metropolitana|\n",
      "+------+------+---------+-----+------+--------------+---------------+-------------------+---------+----------------+--------------+----------+---------------+-----------+----------------+---------------------+----------------------+\n",
      "|Brasil|  null|     null|   76|  null|          null|           null|2020-02-25 00:00:00|        9|       210147125|             0|         0|              0|          0|            null|                 null|                  null|\n",
      "|Brasil|  null|     null|   76|  null|          null|           null|2020-02-26 00:00:00|        9|       210147125|             1|         1|              0|          0|            null|                 null|                  null|\n",
      "|Brasil|  null|     null|   76|  null|          null|           null|2020-02-27 00:00:00|        9|       210147125|             1|         0|              0|          0|            null|                 null|                  null|\n",
      "|Brasil|  null|     null|   76|  null|          null|           null|2020-02-28 00:00:00|        9|       210147125|             1|         0|              0|          0|            null|                 null|                  null|\n",
      "|Brasil|  null|     null|   76|  null|          null|           null|2020-02-29 00:00:00|        9|       210147125|             2|         1|              0|          0|            null|                 null|                  null|\n",
      "+------+------+---------+-----+------+--------------+---------------+-------------------+---------+----------------+--------------+----------+---------------+-----------+----------------+---------------------+----------------------+\n",
      "only showing top 5 rows\n",
      "\n"
     ]
    }
   ],
   "source": [
    "data_covid_bruto.show(5)"
   ]
  },
  {
   "cell_type": "code",
   "execution_count": 9,
   "metadata": {},
   "outputs": [
    {
     "name": "stdout",
     "output_type": "stream",
     "text": [
      "+------+-------------------+--------------+----------+---------------+-----------+----------------+---------------------+---------+----------------+\n",
      "|regiao|               data|casosAcumulado|casosNovos|obitosAcumulado|obitosNovos|Recuperadosnovos|emAcompanhamentoNovos|municipio|populacaoTCU2019|\n",
      "+------+-------------------+--------------+----------+---------------+-----------+----------------+---------------------+---------+----------------+\n",
      "|Brasil|2020-02-25 00:00:00|             0|         0|              0|          0|            null|                 null|     null|       210147125|\n",
      "|Brasil|2020-02-26 00:00:00|             1|         1|              0|          0|            null|                 null|     null|       210147125|\n",
      "|Brasil|2020-02-27 00:00:00|             1|         0|              0|          0|            null|                 null|     null|       210147125|\n",
      "|Brasil|2020-02-28 00:00:00|             1|         0|              0|          0|            null|                 null|     null|       210147125|\n",
      "|Brasil|2020-02-29 00:00:00|             2|         1|              0|          0|            null|                 null|     null|       210147125|\n",
      "+------+-------------------+--------------+----------+---------------+-----------+----------------+---------------------+---------+----------------+\n",
      "only showing top 5 rows\n",
      "\n"
     ]
    }
   ],
   "source": [
    "#selecionando as colunas com as informações para análise e geração das consultas\n",
    "\n",
    "data_covid_limpo = data_covid_bruto.select('regiao','data','casosAcumulado','casosNovos','obitosAcumulado','obitosNovos','Recuperadosnovos','emAcompanhamentoNovos','municipio','populacaoTCU2019')\n",
    "data_covid_limpo.show(5)"
   ]
  },
  {
   "cell_type": "code",
   "execution_count": 10,
   "metadata": {},
   "outputs": [
    {
     "data": {
      "text/html": [
       "<div>\n",
       "<style scoped>\n",
       "    .dataframe tbody tr th:only-of-type {\n",
       "        vertical-align: middle;\n",
       "    }\n",
       "\n",
       "    .dataframe tbody tr th {\n",
       "        vertical-align: top;\n",
       "    }\n",
       "\n",
       "    .dataframe thead th {\n",
       "        text-align: right;\n",
       "    }\n",
       "</style>\n",
       "<table border=\"1\" class=\"dataframe\">\n",
       "  <thead>\n",
       "    <tr style=\"text-align: right;\">\n",
       "      <th></th>\n",
       "      <th>regiao</th>\n",
       "      <th>data</th>\n",
       "      <th>casosAcumulado</th>\n",
       "      <th>casosNovos</th>\n",
       "      <th>obitosAcumulado</th>\n",
       "      <th>obitosNovos</th>\n",
       "      <th>Recuperadosnovos</th>\n",
       "      <th>emAcompanhamentoNovos</th>\n",
       "      <th>municipio</th>\n",
       "      <th>populacaoTCU2019</th>\n",
       "    </tr>\n",
       "  </thead>\n",
       "  <tbody>\n",
       "    <tr>\n",
       "      <th>0</th>\n",
       "      <td>Brasil</td>\n",
       "      <td>2020-02-25</td>\n",
       "      <td>0</td>\n",
       "      <td>0</td>\n",
       "      <td>0</td>\n",
       "      <td>0</td>\n",
       "      <td>0</td>\n",
       "      <td>0</td>\n",
       "      <td>0</td>\n",
       "      <td>210147125</td>\n",
       "    </tr>\n",
       "    <tr>\n",
       "      <th>1</th>\n",
       "      <td>Brasil</td>\n",
       "      <td>2020-02-26</td>\n",
       "      <td>1</td>\n",
       "      <td>1</td>\n",
       "      <td>0</td>\n",
       "      <td>0</td>\n",
       "      <td>0</td>\n",
       "      <td>0</td>\n",
       "      <td>0</td>\n",
       "      <td>210147125</td>\n",
       "    </tr>\n",
       "    <tr>\n",
       "      <th>2</th>\n",
       "      <td>Brasil</td>\n",
       "      <td>2020-02-27</td>\n",
       "      <td>1</td>\n",
       "      <td>0</td>\n",
       "      <td>0</td>\n",
       "      <td>0</td>\n",
       "      <td>0</td>\n",
       "      <td>0</td>\n",
       "      <td>0</td>\n",
       "      <td>210147125</td>\n",
       "    </tr>\n",
       "    <tr>\n",
       "      <th>3</th>\n",
       "      <td>Brasil</td>\n",
       "      <td>2020-02-28</td>\n",
       "      <td>1</td>\n",
       "      <td>0</td>\n",
       "      <td>0</td>\n",
       "      <td>0</td>\n",
       "      <td>0</td>\n",
       "      <td>0</td>\n",
       "      <td>0</td>\n",
       "      <td>210147125</td>\n",
       "    </tr>\n",
       "    <tr>\n",
       "      <th>4</th>\n",
       "      <td>Brasil</td>\n",
       "      <td>2020-02-29</td>\n",
       "      <td>2</td>\n",
       "      <td>1</td>\n",
       "      <td>0</td>\n",
       "      <td>0</td>\n",
       "      <td>0</td>\n",
       "      <td>0</td>\n",
       "      <td>0</td>\n",
       "      <td>210147125</td>\n",
       "    </tr>\n",
       "    <tr>\n",
       "      <th>5</th>\n",
       "      <td>Brasil</td>\n",
       "      <td>2020-03-01</td>\n",
       "      <td>2</td>\n",
       "      <td>0</td>\n",
       "      <td>0</td>\n",
       "      <td>0</td>\n",
       "      <td>0</td>\n",
       "      <td>0</td>\n",
       "      <td>0</td>\n",
       "      <td>210147125</td>\n",
       "    </tr>\n",
       "    <tr>\n",
       "      <th>6</th>\n",
       "      <td>Brasil</td>\n",
       "      <td>2020-03-02</td>\n",
       "      <td>2</td>\n",
       "      <td>0</td>\n",
       "      <td>0</td>\n",
       "      <td>0</td>\n",
       "      <td>0</td>\n",
       "      <td>0</td>\n",
       "      <td>0</td>\n",
       "      <td>210147125</td>\n",
       "    </tr>\n",
       "    <tr>\n",
       "      <th>7</th>\n",
       "      <td>Brasil</td>\n",
       "      <td>2020-03-03</td>\n",
       "      <td>2</td>\n",
       "      <td>0</td>\n",
       "      <td>0</td>\n",
       "      <td>0</td>\n",
       "      <td>0</td>\n",
       "      <td>0</td>\n",
       "      <td>0</td>\n",
       "      <td>210147125</td>\n",
       "    </tr>\n",
       "    <tr>\n",
       "      <th>8</th>\n",
       "      <td>Brasil</td>\n",
       "      <td>2020-03-04</td>\n",
       "      <td>3</td>\n",
       "      <td>1</td>\n",
       "      <td>0</td>\n",
       "      <td>0</td>\n",
       "      <td>0</td>\n",
       "      <td>0</td>\n",
       "      <td>0</td>\n",
       "      <td>210147125</td>\n",
       "    </tr>\n",
       "    <tr>\n",
       "      <th>9</th>\n",
       "      <td>Brasil</td>\n",
       "      <td>2020-03-05</td>\n",
       "      <td>7</td>\n",
       "      <td>4</td>\n",
       "      <td>0</td>\n",
       "      <td>0</td>\n",
       "      <td>0</td>\n",
       "      <td>0</td>\n",
       "      <td>0</td>\n",
       "      <td>210147125</td>\n",
       "    </tr>\n",
       "  </tbody>\n",
       "</table>\n",
       "</div>"
      ],
      "text/plain": [
       "   regiao        data casosAcumulado  casosNovos  obitosAcumulado  \\\n",
       "0  Brasil  2020-02-25              0           0                0   \n",
       "1  Brasil  2020-02-26              1           1                0   \n",
       "2  Brasil  2020-02-27              1           0                0   \n",
       "3  Brasil  2020-02-28              1           0                0   \n",
       "4  Brasil  2020-02-29              2           1                0   \n",
       "5  Brasil  2020-03-01              2           0                0   \n",
       "6  Brasil  2020-03-02              2           0                0   \n",
       "7  Brasil  2020-03-03              2           0                0   \n",
       "8  Brasil  2020-03-04              3           1                0   \n",
       "9  Brasil  2020-03-05              7           4                0   \n",
       "\n",
       "   obitosNovos  Recuperadosnovos  emAcompanhamentoNovos municipio  \\\n",
       "0            0                 0                      0         0   \n",
       "1            0                 0                      0         0   \n",
       "2            0                 0                      0         0   \n",
       "3            0                 0                      0         0   \n",
       "4            0                 0                      0         0   \n",
       "5            0                 0                      0         0   \n",
       "6            0                 0                      0         0   \n",
       "7            0                 0                      0         0   \n",
       "8            0                 0                      0         0   \n",
       "9            0                 0                      0         0   \n",
       "\n",
       "   populacaoTCU2019  \n",
       "0         210147125  \n",
       "1         210147125  \n",
       "2         210147125  \n",
       "3         210147125  \n",
       "4         210147125  \n",
       "5         210147125  \n",
       "6         210147125  \n",
       "7         210147125  \n",
       "8         210147125  \n",
       "9         210147125  "
      ]
     },
     "execution_count": 10,
     "metadata": {},
     "output_type": "execute_result"
    }
   ],
   "source": [
    "#tratando o formato da coluna data (alterando de timestamp para date)\n",
    "#preenchendo as colunas com informações nulas por '0'\n",
    "\n",
    "data_covid_final = data_covid_limpo.withColumn(\"data\",to_date(col(\"data\")))\\\n",
    "                                    .na.fill({'municipio': '0', 'Recuperadosnovos': 0, 'emAcompanhamentoNovos': 0, 'populacaoTCU2019': 0})\n",
    "data_covid_final.limit(10).toPandas()"
   ]
  },
  {
   "cell_type": "code",
   "execution_count": 11,
   "metadata": {},
   "outputs": [
    {
     "name": "stdout",
     "output_type": "stream",
     "text": [
      "+------+----------+--------------+----------+---------------+-----------+----------------+---------------------+---------+----------------+\n",
      "|regiao|      data|casosAcumulado|casosNovos|obitosAcumulado|obitosNovos|Recuperadosnovos|emAcompanhamentoNovos|municipio|populacaoTCU2019|\n",
      "+------+----------+--------------+----------+---------------+-----------+----------------+---------------------+---------+----------------+\n",
      "|Brasil|2020-02-25|             0|         0|              0|          0|               0|                    0|        0|       210147125|\n",
      "|Brasil|2020-02-26|             1|         1|              0|          0|               0|                    0|        0|       210147125|\n",
      "|Brasil|2020-02-27|             1|         0|              0|          0|               0|                    0|        0|       210147125|\n",
      "|Brasil|2020-02-28|             1|         0|              0|          0|               0|                    0|        0|       210147125|\n",
      "|Brasil|2020-02-29|             2|         1|              0|          0|               0|                    0|        0|       210147125|\n",
      "+------+----------+--------------+----------+---------------+-----------+----------------+---------------------+---------+----------------+\n",
      "only showing top 5 rows\n",
      "\n"
     ]
    }
   ],
   "source": [
    "data_covid_final.show(5)"
   ]
  },
  {
   "cell_type": "code",
   "execution_count": 21,
   "metadata": {},
   "outputs": [],
   "source": [
    "#executar caso o processo seja interrompido no meio do processo de criação das partições e o overwrite apresente erro\n",
    "\n",
    "spark.conf.set(\"spark.sql.legacy.allowCreatingManagedTableUsingNonemptyLocation\",\"true\")"
   ]
  },
  {
   "cell_type": "code",
   "execution_count": 22,
   "metadata": {},
   "outputs": [],
   "source": [
    "#execução da geração das tabelas\n",
    "\n",
    "data_covid_final.write.mode(\"overwrite\").partitionBy(\"municipio\").saveAsTable(\"dados_covid_br\")"
   ]
  },
  {
   "cell_type": "code",
   "execution_count": 12,
   "metadata": {},
   "outputs": [
    {
     "name": "stdout",
     "output_type": "stream",
     "text": [
      "Found 5299 items\n",
      "-rw-r--r--   2 root supergroup          0 2022-12-08 13:45 /user/hive/warehouse/dados_covid_br/_SUCCESS\n",
      "drwxr-xr-x   - root supergroup          0 2022-12-08 13:45 /user/hive/warehouse/dados_covid_br/municipio=0\n",
      "drwxr-xr-x   - root supergroup          0 2022-12-08 13:45 /user/hive/warehouse/dados_covid_br/municipio=Abadia de Goiás\n",
      "drwxr-xr-x   - root supergroup          0 2022-12-08 13:45 /user/hive/warehouse/dados_covid_br/municipio=Abadia dos Dourados\n",
      "drwxr-xr-x   - root supergroup          0 2022-12-08 13:45 /user/hive/warehouse/dados_covid_br/municipio=Abadiânia\n",
      "drwxr-xr-x   - root supergroup          0 2022-12-08 13:45 /user/hive/warehouse/dados_covid_br/municipio=Abaetetuba\n",
      "drwxr-xr-x   - root supergroup          0 2022-12-08 13:45 /user/hive/warehouse/dados_covid_br/municipio=Abaeté\n",
      "drwxr-xr-x   - root supergroup          0 2022-12-08 13:45 /user/hive/warehouse/dados_covid_br/municipio=Abaiara\n",
      "drwxr-xr-x   - root supergroup          0 2022-12-08 13:45 /user/hive/warehouse/dados_covid_br/municipio=Abaré\n"
     ]
    }
   ],
   "source": [
    "#consultando as tabelas geradas\n",
    "\n",
    "!hdfs dfs -ls /user/hive/warehouse/dados_covid_br | head"
   ]
  },
  {
   "cell_type": "code",
   "execution_count": 13,
   "metadata": {},
   "outputs": [
    {
     "name": "stdout",
     "output_type": "stream",
     "text": [
      "Found 8 items\r\n",
      "-rw-r--r--   2 root supergroup      58290 2022-12-08 13:25 /user/hive/warehouse/dados_covid_br/municipio=0/part-00000-6bcb600a-7417-4048-a21a-ac1f3a2d131e.c000.snappy.parquet\r\n",
      "-rw-r--r--   2 root supergroup       7159 2022-12-08 13:25 /user/hive/warehouse/dados_covid_br/municipio=0/part-00001-6bcb600a-7417-4048-a21a-ac1f3a2d131e.c000.snappy.parquet\r\n",
      "-rw-r--r--   2 root supergroup      79000 2022-12-08 13:25 /user/hive/warehouse/dados_covid_br/municipio=0/part-00002-6bcb600a-7417-4048-a21a-ac1f3a2d131e.c000.snappy.parquet\r\n",
      "-rw-r--r--   2 root supergroup       8611 2022-12-08 13:25 /user/hive/warehouse/dados_covid_br/municipio=0/part-00003-6bcb600a-7417-4048-a21a-ac1f3a2d131e.c000.snappy.parquet\r\n",
      "-rw-r--r--   2 root supergroup      99581 2022-12-08 13:25 /user/hive/warehouse/dados_covid_br/municipio=0/part-00004-6bcb600a-7417-4048-a21a-ac1f3a2d131e.c000.snappy.parquet\r\n",
      "-rw-r--r--   2 root supergroup       7184 2022-12-08 13:25 /user/hive/warehouse/dados_covid_br/municipio=0/part-00005-6bcb600a-7417-4048-a21a-ac1f3a2d131e.c000.snappy.parquet\r\n",
      "-rw-r--r--   2 root supergroup       5799 2022-12-08 13:25 /user/hive/warehouse/dados_covid_br/municipio=0/part-00006-6bcb600a-7417-4048-a21a-ac1f3a2d131e.c000.snappy.parquet\r\n",
      "-rw-r--r--   2 root supergroup       7555 2022-12-08 13:25 /user/hive/warehouse/dados_covid_br/municipio=0/part-00007-6bcb600a-7417-4048-a21a-ac1f3a2d131e.c000.snappy.parquet\r\n"
     ]
    }
   ],
   "source": [
    "#consultando as tabelas geradas\n",
    "\n",
    "!hdfs dfs -ls /user/hive/warehouse/dados_covid_br/municipio=0 | head"
   ]
  },
  {
   "cell_type": "code",
   "execution_count": 14,
   "metadata": {},
   "outputs": [
    {
     "data": {
      "text/html": [
       "<div>\n",
       "<style scoped>\n",
       "    .dataframe tbody tr th:only-of-type {\n",
       "        vertical-align: middle;\n",
       "    }\n",
       "\n",
       "    .dataframe tbody tr th {\n",
       "        vertical-align: top;\n",
       "    }\n",
       "\n",
       "    .dataframe thead th {\n",
       "        text-align: right;\n",
       "    }\n",
       "</style>\n",
       "<table border=\"1\" class=\"dataframe\">\n",
       "  <thead>\n",
       "    <tr style=\"text-align: right;\">\n",
       "      <th></th>\n",
       "      <th>regiao</th>\n",
       "      <th>data</th>\n",
       "      <th>casosAcumulado</th>\n",
       "      <th>casosNovos</th>\n",
       "      <th>obitosAcumulado</th>\n",
       "      <th>obitosNovos</th>\n",
       "      <th>Recuperadosnovos</th>\n",
       "      <th>emAcompanhamentoNovos</th>\n",
       "      <th>populacaoTCU2019</th>\n",
       "      <th>municipio</th>\n",
       "    </tr>\n",
       "  </thead>\n",
       "  <tbody>\n",
       "    <tr>\n",
       "      <th>0</th>\n",
       "      <td>Brasil</td>\n",
       "      <td>2021-01-01</td>\n",
       "      <td>7700578</td>\n",
       "      <td>24605</td>\n",
       "      <td>195411</td>\n",
       "      <td>462</td>\n",
       "      <td>6756284</td>\n",
       "      <td>748883</td>\n",
       "      <td>210147125</td>\n",
       "      <td>0</td>\n",
       "    </tr>\n",
       "    <tr>\n",
       "      <th>1</th>\n",
       "      <td>Brasil</td>\n",
       "      <td>2021-01-02</td>\n",
       "      <td>7716405</td>\n",
       "      <td>15827</td>\n",
       "      <td>195725</td>\n",
       "      <td>314</td>\n",
       "      <td>6769420</td>\n",
       "      <td>751260</td>\n",
       "      <td>210147125</td>\n",
       "      <td>0</td>\n",
       "    </tr>\n",
       "    <tr>\n",
       "      <th>2</th>\n",
       "      <td>Brasil</td>\n",
       "      <td>2021-01-03</td>\n",
       "      <td>7733746</td>\n",
       "      <td>17341</td>\n",
       "      <td>196018</td>\n",
       "      <td>293</td>\n",
       "      <td>6813008</td>\n",
       "      <td>724720</td>\n",
       "      <td>210147125</td>\n",
       "      <td>0</td>\n",
       "    </tr>\n",
       "    <tr>\n",
       "      <th>3</th>\n",
       "      <td>Brasil</td>\n",
       "      <td>2021-01-04</td>\n",
       "      <td>7753752</td>\n",
       "      <td>20006</td>\n",
       "      <td>196561</td>\n",
       "      <td>543</td>\n",
       "      <td>6875230</td>\n",
       "      <td>681961</td>\n",
       "      <td>210147125</td>\n",
       "      <td>0</td>\n",
       "    </tr>\n",
       "    <tr>\n",
       "      <th>4</th>\n",
       "      <td>Brasil</td>\n",
       "      <td>2021-01-05</td>\n",
       "      <td>7810400</td>\n",
       "      <td>56648</td>\n",
       "      <td>197732</td>\n",
       "      <td>1171</td>\n",
       "      <td>6963407</td>\n",
       "      <td>649261</td>\n",
       "      <td>210147125</td>\n",
       "      <td>0</td>\n",
       "    </tr>\n",
       "  </tbody>\n",
       "</table>\n",
       "</div>"
      ],
      "text/plain": [
       "   regiao        data casosAcumulado  casosNovos  obitosAcumulado  \\\n",
       "0  Brasil  2021-01-01        7700578       24605           195411   \n",
       "1  Brasil  2021-01-02        7716405       15827           195725   \n",
       "2  Brasil  2021-01-03        7733746       17341           196018   \n",
       "3  Brasil  2021-01-04        7753752       20006           196561   \n",
       "4  Brasil  2021-01-05        7810400       56648           197732   \n",
       "\n",
       "   obitosNovos  Recuperadosnovos  emAcompanhamentoNovos  populacaoTCU2019  \\\n",
       "0          462           6756284                 748883         210147125   \n",
       "1          314           6769420                 751260         210147125   \n",
       "2          293           6813008                 724720         210147125   \n",
       "3          543           6875230                 681961         210147125   \n",
       "4         1171           6963407                 649261         210147125   \n",
       "\n",
       "  municipio  \n",
       "0         0  \n",
       "1         0  \n",
       "2         0  \n",
       "3         0  \n",
       "4         0  "
      ]
     },
     "execution_count": 14,
     "metadata": {},
     "output_type": "execute_result"
    }
   ],
   "source": [
    "spark.read.table(\"dados_covid_br\").limit(5).toPandas()"
   ]
  },
  {
   "cell_type": "code",
   "execution_count": 15,
   "metadata": {},
   "outputs": [
    {
     "name": "stdout",
     "output_type": "stream",
     "text": [
      "root\n",
      " |-- regiao: string (nullable = true)\n",
      " |-- data: date (nullable = true)\n",
      " |-- casosAcumulado: decimal(10,0) (nullable = true)\n",
      " |-- casosNovos: integer (nullable = true)\n",
      " |-- obitosAcumulado: integer (nullable = true)\n",
      " |-- obitosNovos: integer (nullable = true)\n",
      " |-- Recuperadosnovos: integer (nullable = true)\n",
      " |-- emAcompanhamentoNovos: integer (nullable = true)\n",
      " |-- populacaoTCU2019: integer (nullable = true)\n",
      " |-- municipio: string (nullable = true)\n",
      "\n"
     ]
    }
   ],
   "source": [
    "spark.read.table(\"dados_covid_br\").printSchema()"
   ]
  },
  {
   "cell_type": "markdown",
   "metadata": {},
   "source": [
    "### <a name=\"questao03\"> Questão 3 - Criar as 3 vizualizações pelo Spark com os dados enviados para o HDFS: </a>\n",
    "**a.) Casos recuperados**  \n",
    "**b.) Casos confirmados**  \n",
    "**c.) Óbitos confirmados**  \n",
    "\n",
    "\n",
    "![](quadros.png)\n",
    "\n",
    "\n",
    "***Exemplo dos resultados a serem apresentados - data do painel: 06/07/2021\n",
    "\n",
    "[voltar ao ínicio](#inicio)"
   ]
  },
  {
   "cell_type": "markdown",
   "metadata": {},
   "source": [
    "**a.) Casos recuperados**"
   ]
  },
  {
   "cell_type": "code",
   "execution_count": 24,
   "metadata": {},
   "outputs": [
    {
     "name": "stdout",
     "output_type": "stream",
     "text": [
      "+-----------------+-----------------+\n",
      "|Casos_recuperados|Em_acompanhamento|\n",
      "+-----------------+-----------------+\n",
      "|         17262646|          1065477|\n",
      "+-----------------+-----------------+\n",
      "\n"
     ]
    }
   ],
   "source": [
    "casos_recuperados = data_covid_final.filter(\"data == '2021-07-06'\")\\\n",
    "                                    .select(sum('Recuperadosnovos').alias(\"Casos_recuperados\"),\\\n",
    "                                            sum('emAcompanhamentoNovos').alias(\"Em_acompanhamento\"))\\\n",
    "                                    \n",
    "\n",
    "casos_recuperados_visualizacao = casos_recuperados.show()"
   ]
  },
  {
   "cell_type": "markdown",
   "metadata": {},
   "source": [
    "**b.) Casos confirmados**"
   ]
  },
  {
   "cell_type": "code",
   "execution_count": 26,
   "metadata": {},
   "outputs": [
    {
     "name": "stdout",
     "output_type": "stream",
     "text": [
      "+-----------------+-----------+----------+\n",
      "|Casos_confirmados|Casos_novos|Incidencia|\n",
      "+-----------------+-----------+----------+\n",
      "|         18855015|      62504|  8,972.29|\n",
      "+-----------------+-----------+----------+\n",
      "\n"
     ]
    }
   ],
   "source": [
    "casos_confirmados = data_covid_final.filter(\"data == '2021-07-06'\")\\\n",
    "                                    .filter(\"populacaoTCU2019 is Not Null\")\\\n",
    "                                    .select(max('casosAcumulado').alias(\"Casos_confirmados\"),\\\n",
    "                                            max('casosNovos').alias(\"Casos_novos\"),\\\n",
    "                                            max('populacaoTCU2019').alias(\"Populacao\"))\n",
    "                                            \n",
    "\n",
    "casos_confirmados_incidencia = casos_confirmados.withColumn(\"Incidencia\", format_number(100000*col(\"Casos_confirmados\")/col(\"Populacao\"),2))\n",
    "                                    \n",
    "casos_confirmados_visualizacao = casos_confirmados_incidencia.drop(\"Populacao\").show()                                "
   ]
  },
  {
   "cell_type": "markdown",
   "metadata": {},
   "source": [
    "**c.) Óbitos confirmados**"
   ]
  },
  {
   "cell_type": "code",
   "execution_count": 30,
   "metadata": {},
   "outputs": [
    {
     "name": "stdout",
     "output_type": "stream",
     "text": [
      "+-----------------+------------+----------+-----------+\n",
      "|Obitos_acumulados|Obitos_novos|Letalidade|Mortalidade|\n",
      "+-----------------+------------+----------+-----------+\n",
      "|           526892|        1780|      2.79|     250.73|\n",
      "+-----------------+------------+----------+-----------+\n",
      "\n"
     ]
    }
   ],
   "source": [
    "obitos_confirmados = data_covid_final.filter(\"data == '2021-07-06'\")\\\n",
    "                                     .filter(\"populacaoTCU2019 is Not Null\")\\\n",
    "                                     .select(max('obitosAcumulado').alias(\"Obitos_acumulados\"),\\\n",
    "                                             max('obitosNovos').alias(\"Obitos_novos\"),\\\n",
    "                                             max('casosAcumulado').alias(\"Casos_confirmados\"),\\\n",
    "                                             max('populacaoTCU2019').alias(\"Populacao\"))\n",
    "\n",
    "letalidade = obitos_confirmados.withColumn(\"Letalidade\", format_number(100*col(\"Obitos_acumulados\")/col(\"Casos_confirmados\"),2))\n",
    "mortalidade = letalidade.withColumn(\"Mortalidade\", format_number(100000.00*col(\"Obitos_acumulados\")/col(\"Populacao\"),2))\n",
    "\n",
    "obitos_confirmados_visualizacao0 = mortalidade.drop(\"Casos_confirmados\",\"Populacao\").show()"
   ]
  },
  {
   "cell_type": "code",
   "execution_count": 31,
   "metadata": {},
   "outputs": [],
   "source": [
    "#apenas para carregar as informações, por isso a duplicidade\n",
    "\n",
    "obitos_confirmados = data_covid_final.filter(\"data == '2021-07-06'\")\\\n",
    "                                     .filter(\"populacaoTCU2019 is Not Null\")\\\n",
    "                                     .select(max('obitosAcumulado').alias(\"Obitos_acumulados\"),\\\n",
    "                                             max('obitosNovos').alias(\"Obitos_novos\"),\\\n",
    "                                             max('casosAcumulado').alias(\"Casos_confirmados\"),\\\n",
    "                                             max('populacaoTCU2019').alias(\"Populacao\"))\n",
    "\n",
    "letalidade = obitos_confirmados.withColumn(\"Letalidade\", format_number(100*col(\"Obitos_acumulados\")/col(\"Casos_confirmados\"),2))\n",
    "mortalidade = letalidade.withColumn(\"Mortalidade\", format_number(100000.00*col(\"Obitos_acumulados\")/col(\"Populacao\"),2))\n",
    "\n",
    "obitos_confirmados_visualizacao = mortalidade.drop(\"Casos_confirmados\",\"Populacao\")"
   ]
  },
  {
   "cell_type": "markdown",
   "metadata": {},
   "source": [
    "### <a name=\"questao04\"> Questão 4 - Salvar a primeira visualização como tabela Hive </a>\n",
    "\n",
    "[voltar ao ínicio](#inicio)"
   ]
  },
  {
   "cell_type": "code",
   "execution_count": 32,
   "metadata": {},
   "outputs": [],
   "source": [
    "casos_recuperados.write.mode(\"overwrite\").saveAsTable(\"tbl_casos_recuperados\")"
   ]
  },
  {
   "cell_type": "code",
   "execution_count": 33,
   "metadata": {},
   "outputs": [
    {
     "name": "stdout",
     "output_type": "stream",
     "text": [
      "Found 2 items\r\n",
      "-rw-r--r--   2 root supergroup          0 2022-12-08 13:52 /user/hive/warehouse/tbl_casos_recuperados/_SUCCESS\r\n",
      "-rw-r--r--   2 root supergroup        751 2022-12-08 13:52 /user/hive/warehouse/tbl_casos_recuperados/part-00000-47e55321-71c3-4936-9712-48cfb640dc01-c000.snappy.parquet\r\n"
     ]
    }
   ],
   "source": [
    "#verificando a criação da tabela\n",
    "\n",
    "!hdfs dfs -ls /user/hive/warehouse/tbl_casos_recuperados"
   ]
  },
  {
   "cell_type": "markdown",
   "metadata": {},
   "source": [
    "### <a name=\"questao05\"> Questão 5 - Salvar a segunda visualização com formato parquet e compressão snappy </a>\n",
    "\n",
    "[voltar ao ínicio](#inicio)"
   ]
  },
  {
   "cell_type": "code",
   "execution_count": 34,
   "metadata": {},
   "outputs": [],
   "source": [
    "casos_confirmados.write.mode(\"overwrite\").saveAsTable(\"tbl_casos_confirmados\", compression='snappy')"
   ]
  },
  {
   "cell_type": "code",
   "execution_count": 35,
   "metadata": {},
   "outputs": [
    {
     "name": "stdout",
     "output_type": "stream",
     "text": [
      "Found 2 items\r\n",
      "-rw-r--r--   2 root supergroup          0 2022-12-08 13:52 /user/hive/warehouse/tbl_casos_confirmados/_SUCCESS\r\n",
      "-rw-r--r--   2 root supergroup        930 2022-12-08 13:52 /user/hive/warehouse/tbl_casos_confirmados/part-00000-3b0665f3-6302-4e93-b741-4bc1bb3759ee-c000.snappy.parquet\r\n"
     ]
    }
   ],
   "source": [
    "#verificando a criação da tabela\n",
    "\n",
    "!hdfs dfs -ls /user/hive/warehouse/tbl_casos_confirmados"
   ]
  },
  {
   "cell_type": "code",
   "execution_count": 29,
   "metadata": {},
   "outputs": [
    {
     "data": {
      "text/plain": [
       "[Table(name='dados_covid_br', database='default', description=None, tableType='MANAGED', isTemporary=False),\n",
       " Table(name='juros', database='default', description=None, tableType='MANAGED', isTemporary=False),\n",
       " Table(name='juros1', database='default', description=None, tableType='MANAGED', isTemporary=False),\n",
       " Table(name='tbl_casos_confirmados', database='default', description=None, tableType='MANAGED', isTemporary=False),\n",
       " Table(name='tbl_casos_recuperados', database='default', description=None, tableType='MANAGED', isTemporary=False)]"
      ]
     },
     "execution_count": 29,
     "metadata": {},
     "output_type": "execute_result"
    }
   ],
   "source": [
    "# verificando as tabelas criadas\n",
    "\n",
    "spark.catalog.listTables()"
   ]
  },
  {
   "cell_type": "markdown",
   "metadata": {},
   "source": [
    "### <a name=\"questao06\"> Questão 6 - Salvar a terceira visualização em um tópico no Kafka </a>\n",
    "\n",
    "[voltar ao ínicio](#inicio)"
   ]
  },
  {
   "cell_type": "code",
   "execution_count": 32,
   "metadata": {},
   "outputs": [
    {
     "name": "stdout",
     "output_type": "stream",
     "text": [
      "root\n",
      " |-- Obitos_acumulados: integer (nullable = true)\n",
      " |-- Obitos_novos: integer (nullable = true)\n",
      " |-- Letalidade: string (nullable = true)\n",
      " |-- Mortalidade: string (nullable = true)\n",
      "\n"
     ]
    }
   ],
   "source": [
    "obitos_confirmados_visualizacao.printSchema()"
   ]
  },
  {
   "cell_type": "code",
   "execution_count": 33,
   "metadata": {},
   "outputs": [],
   "source": [
    "obitos_confirmados.selectExpr(\"to_json(struct(*)) As value\")\\\n",
    "                                .write\\\n",
    "                                .format(\"kafka\")\\\n",
    "                                .option(\"kafka.bootstrap.servers\",\"kafka:9092\")\\\n",
    "                                .option(\"topic\", \"topico_obitos_confirmados\")\\\n",
    "                                .save()"
   ]
  },
  {
   "cell_type": "code",
   "execution_count": 34,
   "metadata": {},
   "outputs": [],
   "source": [
    "obitos_confirmados_visualizacao.selectExpr(\"to_json(struct(*)) As value\")\\\n",
    "                                .write\\\n",
    "                                .format(\"kafka\")\\\n",
    "                                .option(\"kafka.bootstrap.servers\",\"kafka:9092\")\\\n",
    "                                .option(\"topic\", \"topico_obitos_novos\")\\\n",
    "                                .save()"
   ]
  },
  {
   "cell_type": "code",
   "execution_count": 35,
   "metadata": {},
   "outputs": [],
   "source": [
    "letalidade.selectExpr('to_json(struct(*)) As value')\\\n",
    "                .write\\\n",
    "                .format(\"kafka\")\\\n",
    "                .option(\"kafka.bootstrap.servers\",\"kafka:9092\")\\\n",
    "                .option(\"topic\",\"topic-letalidade\")\\\n",
    "                .save()"
   ]
  },
  {
   "cell_type": "code",
   "execution_count": 36,
   "metadata": {},
   "outputs": [],
   "source": [
    "mortalidade.selectExpr('to_json(struct(*)) As value')\\\n",
    "                .write\\\n",
    "                .format(\"kafka\")\\\n",
    "                .option(\"kafka.bootstrap.servers\",\"kafka:9092\")\\\n",
    "                .option(\"topic\",\"topic-mortalidade\")\\\n",
    "                .save()"
   ]
  },
  {
   "cell_type": "code",
   "execution_count": 40,
   "metadata": {},
   "outputs": [
    {
     "name": "stdout",
     "output_type": "stream",
     "text": [
      "+---------------------------------------------------------------------------------------------------+\n",
      "|value                                                                                              |\n",
      "+---------------------------------------------------------------------------------------------------+\n",
      "|{\"Obitos_acumulados\":526892,\"Obitos_novos\":1780,\"Casos_confirmados\":18855015,\"Populacao\":210147125}|\n",
      "|{\"Obitos_acumulados\":526892,\"Obitos_novos\":1780,\"Casos_confirmados\":18855015,\"Populacao\":210147125}|\n",
      "|{\"Obitos_acumulados\":526892,\"Obitos_novos\":1780,\"Casos_confirmados\":18855015,\"Populacao\":210147125}|\n",
      "+---------------------------------------------------------------------------------------------------+\n",
      "\n"
     ]
    }
   ],
   "source": [
    "topico_obitos_confirmados = spark.read\\\n",
    "    .format('kafka')\\\n",
    "    .option('kafka.bootstrap.servers', 'kafka:9092')\\\n",
    "    .option('subscribe','topico_obitos_confirmados') \\\n",
    "    .load()\n",
    "\n",
    "topic_string = topico_obitos_confirmados.select(col('value').cast('string'))\n",
    "topic_string.show(truncate = False)"
   ]
  },
  {
   "cell_type": "markdown",
   "metadata": {},
   "source": [
    "**Verificando a criação dos tópicos no terminal:**  \n",
    "\n",
    "PS C:\\Users\\spark> docker exec -it kafka bash  \n",
    "bash-4.4# kafka-topics.sh --bootstrap-server kafka:9092 --list  \n",
    "topic-letalidade  \n",
    "topic-mortalidade  \n",
    "topico_obitos_confirmados  \n",
    "topico_obitos_novos  "
   ]
  },
  {
   "cell_type": "markdown",
   "metadata": {},
   "source": [
    "### <a name=\"questao07\"> Questão 7 - Criar a visualização pelo Spark com os dados enviados para o HDFS: </a>\n",
    "  \n",
    "![](sintese.png)  \n",
    "***Exemplo do quadro a ser apresentado -data do painel: 06/07/2021*\n",
    "\n",
    "[voltar ao ínicio](#inicio)"
   ]
  },
  {
   "cell_type": "code",
   "execution_count": 41,
   "metadata": {},
   "outputs": [
    {
     "name": "stdout",
     "output_type": "stream",
     "text": [
      "+----------+------------+--------+------+----------------------+-----------------------+\n",
      "|      data|      regiao|   Casos|Obitos|Incidencia/100mil hab.|Mortalidade/100mil hab.|\n",
      "+----------+------------+--------+------+----------------------+-----------------------+\n",
      "|2021-07-06|      Brasil|18855015|526892|              8,972.29|                 250.73|\n",
      "|2021-07-06|     Sudeste|14277606|490622|              8,078.18|                 277.59|\n",
      "|2021-07-06|    Nordeste| 8911474|215648|              7,807.27|                 188.93|\n",
      "|2021-07-06|         Sul| 7222082|161410|             12,046.45|                 269.23|\n",
      "|2021-07-06|Centro-Oeste| 3833238| 98414|             11,760.51|                 301.94|\n",
      "|2021-07-06|       Norte| 3465630| 87690|              9,401.64|                 237.89|\n",
      "+----------+------------+--------+------+----------------------+-----------------------+\n",
      "\n"
     ]
    }
   ],
   "source": [
    "visualizacao_hdfs = data_covid_final.groupBy('data','regiao')\\\n",
    "               .agg(sum('casosAcumulado').alias(\"Casos\"),\\\n",
    "                 sum('obitosAcumulado').alias(\"Obitos\"),\\\n",
    "                 sum('populacaoTCU2019').alias(\"Populacao\"),\\\n",
    "                ).sort(desc(\"Casos\")).filter(\"data == '2021-07-06'\")\n",
    "\n",
    "visualizacao_hdfs = visualizacao_hdfs.withColumn(\"Incidencia/100mil hab.\",format_number(100000.00*col('Casos')/col('Populacao'),2))\n",
    "visualizacao_hdfs = visualizacao_hdfs.withColumn(\"Mortalidade/100mil hab.\", format_number(100000.00*col('Obitos')/col('Populacao'),2))\n",
    "visualizacao_hdfs = visualizacao_hdfs.drop('Populacao').show()"
   ]
  },
  {
   "cell_type": "markdown",
   "metadata": {},
   "source": [
    "### <a name=\"questao08\"> Questão 8 - Salvar a visualização do exercício 6 em um tópico no Elastic </a>\n",
    "\n",
    "[voltar ao ínicio](#inicio)"
   ]
  },
  {
   "cell_type": "code",
   "execution_count": 42,
   "metadata": {},
   "outputs": [],
   "source": [
    "topic_elastic = obitos_confirmados_visualizacao.write\\\n",
    "                                               .format('csv')\\\n",
    "                                               .option(\"inferSchema\", \"true\")\\\n",
    "                                               .option(\"header\",\"true\")\\\n",
    "                                               .save(\"/user/hive/warehouse/elastic_search/elastic.csv\")"
   ]
  },
  {
   "cell_type": "code",
   "execution_count": 43,
   "metadata": {},
   "outputs": [
    {
     "name": "stdout",
     "output_type": "stream",
     "text": [
      "Found 2 items\r\n",
      "-rw-r--r--   2 root supergroup          0 2022-12-09 02:57 /user/hive/warehouse/elastic_search/elastic.csv/_SUCCESS\r\n",
      "-rw-r--r--   2 root supergroup         78 2022-12-09 02:57 /user/hive/warehouse/elastic_search/elastic.csv/part-00000-35e349d8-e357-4ecf-9dfd-6100b1bfaf7f-c000.csv\r\n"
     ]
    }
   ],
   "source": [
    "#verificando a criação do topico\n",
    "\n",
    "!hdfs dfs -ls /user/hive/warehouse/elastic_search/elastic.csv"
   ]
  },
  {
   "cell_type": "markdown",
   "metadata": {},
   "source": [
    "**Inicio da sessão no terminal:**  \n",
    "\n",
    "spark-shell --jars /opt/spark/jars/elasticsearch-spark_2.10-2.4.1.jar \\  \n",
    "        --conf spark.es.nodes=\"YOUR-IP-ELASTICSEARCH\" \\  \n",
    "        --conf spark.es.port=\"9200\" \\  \n",
    "        --conf spark.es.index.auto.create=true \\  \n",
    "        --conf spark.es.nodes.discovery=false  \n",
    "\n",
    "\n",
    "import org.elasticsearch.spark.sql._  \n",
    "val topic_elastic =   spark.read.option(\"inferSchema\",true).option(\"header\",true).csv(\"/user/hive/warehouse/elastic_search/elastic.csv\")  \n",
    "topic_elastic.show()  \n",
    "topic_elastic.saveToEs(\"topico_elastic\")  "
   ]
  },
  {
   "cell_type": "markdown",
   "metadata": {},
   "source": [
    "### <a name=\"questao09\"> Questão 9 - Criar um dashboard no Elastic para visualização dos novos dados enviados </a>\n",
    "\n",
    "[voltar ao ínicio](#inicio)"
   ]
  },
  {
   "cell_type": "code",
   "execution_count": null,
   "metadata": {},
   "outputs": [],
   "source": [
    "Localhost:9200\n",
    "    \n",
    "    {\n",
    "  \"name\" : \"node1\",\n",
    "  \"cluster_name\" : \"my_cluster\",\n",
    "  \"cluster_uuid\" : \"tcDNvSItQjWpcx-K4ij7Jg\",\n",
    "  \"version\" : {\n",
    "    \"number\" : \"7.9.2\",\n",
    "    \"build_flavor\" : \"default\",\n",
    "    \"build_type\" : \"docker\",\n",
    "    \"build_hash\" : \"d34da0ea4a966c4e49417f2da2f244e3e97b4e6e\",\n",
    "    \"build_date\" : \"2020-09-23T00:45:33.626720Z\",\n",
    "    \"build_snapshot\" : false,\n",
    "    \"lucene_version\" : \"8.6.2\",\n",
    "    \"minimum_wire_compatibility_version\" : \"6.8.0\",\n",
    "    \"minimum_index_compatibility_version\" : \"6.0.0-beta1\"\n",
    "  },\n",
    "  \"tagline\" : \"You Know, for Search\"\n",
    "        \n",
    "        \n",
    "\n",
    "## Iniciar sessão com atributos abaixo\n",
    "\n",
    "spark-shell --jars /opt/spark/jars/elasticsearch-spark_2.10-2.4.1.jar \\\n",
    "        --conf spark.es.nodes=\"YOUR-IP-ELASTICSEARCH\" \\\n",
    "        --conf spark.es.port=\"9200\" \\\n",
    "        --conf spark.es.index.auto.create=true \\\n",
    "        --conf spark.es.nodes.discovery=false\n",
    "\n",
    "##Salvar view no Elastic\n",
    "\n",
    "import org.elasticsearch.spark.sql._\n",
    "val view3 = spark.read.option(\"inferSchema\",true).option(\"header\",true).csv(\"/user/hive/warehouse/elastic_search/view3_elastic.csv\")\n",
    "view3.show()\n",
    "view3.saveToEs(\"view3_elastic\")"
   ]
  },
  {
   "cell_type": "markdown",
   "metadata": {},
   "source": [
    "## <a name=\"avancado\"> Nivel Avançado </a>"
   ]
  },
  {
   "cell_type": "markdown",
   "metadata": {},
   "source": [
    "Após encerrar as atividades, devemos dar um shutdown no arquivo, por que devemos uma unica sessão ativa do Spark.\n",
    "Atenção, poderão dar erros nas aberturas de novas sessões.\n"
   ]
  }
 ],
 "metadata": {
  "kernelspec": {
   "display_name": "PySpark",
   "language": "python",
   "name": "pyspark"
  },
  "language_info": {
   "codemirror_mode": {
    "name": "ipython",
    "version": 3
   },
   "file_extension": ".py",
   "mimetype": "text/x-python",
   "name": "python",
   "nbconvert_exporter": "python",
   "pygments_lexer": "ipython3",
   "version": "3.6.10"
  }
 },
 "nbformat": 4,
 "nbformat_minor": 2
}
