{
 "cells": [
  {
   "cell_type": "markdown",
   "metadata": {},
   "source": [
    "Autor: Tatiana Massae Sakata"
   ]
  },
  {
   "cell_type": "markdown",
   "metadata": {},
   "source": [
    "#  Módulo Spark"
   ]
  },
  {
   "cell_type": "markdown",
   "metadata": {},
   "source": [
    "## <a name=\"inicio\"> Exercicios Aula 9 </a>"
   ]
  },
  {
   "cell_type": "markdown",
   "metadata": {},
   "source": [
    "* [Inicio - Parte 1](#inicio)\n",
    "* [Questão 01](#questao01)\n",
    "* [Questão 02](#questao02)"
   ]
  },
  {
   "cell_type": "code",
   "execution_count": 1,
   "metadata": {},
   "outputs": [],
   "source": [
    "from pyspark.sql.functions import *"
   ]
  },
  {
   "cell_type": "code",
   "execution_count": 2,
   "metadata": {},
   "outputs": [],
   "source": [
    "topic_read = spark.read\\\n",
    "    .format(\"kafka\")\\\n",
    "    .option(\"kafka.bootstrap.servers\",\"kafka:9092\")\\\n",
    "    .option(\"subscribe\",\"topic-kvspark\")\\\n",
    "    .load()"
   ]
  },
  {
   "cell_type": "code",
   "execution_count": 3,
   "metadata": {},
   "outputs": [
    {
     "name": "stdout",
     "output_type": "stream",
     "text": [
      "root\n",
      " |-- key: binary (nullable = true)\n",
      " |-- value: binary (nullable = true)\n",
      " |-- topic: string (nullable = true)\n",
      " |-- partition: integer (nullable = true)\n",
      " |-- offset: long (nullable = true)\n",
      " |-- timestamp: timestamp (nullable = true)\n",
      " |-- timestampType: integer (nullable = true)\n",
      "\n"
     ]
    }
   ],
   "source": [
    "topic_read.printSchema()"
   ]
  },
  {
   "cell_type": "code",
   "execution_count": 4,
   "metadata": {},
   "outputs": [
    {
     "name": "stdout",
     "output_type": "stream",
     "text": [
      "+----+--------------------+\n",
      "| key|               value|\n",
      "+----+--------------------+\n",
      "|null|[31 2C 20 4D 73 6...|\n",
      "|null|[33 2C 20 4D 73 6...|\n",
      "|null|[31 2C 20 4D 73 6...|\n",
      "|null|[33 2C 20 4D 73 6...|\n",
      "|null|[32 2C 20 4D 73 6...|\n",
      "|null| [31 2C 4D 73 67 31]|\n",
      "|null|       [4D 73 67 31]|\n",
      "|[31]|       [4D 73 67 31]|\n",
      "|[33]|       [4D 73 67 33]|\n",
      "|[31]|       [4D 73 67 31]|\n",
      "|[31]|       [4D 73 67 31]|\n",
      "|[31]|          [4D 73 67]|\n",
      "|[33]|       [4D 73 67 33]|\n",
      "|[34]|       [4D 73 67 34]|\n",
      "|null| [6D 61 73 73 61 65]|\n",
      "|null|[32 2C 20 4D 73 6...|\n",
      "|null|[32 2C 20 4D 73 6...|\n",
      "|null|[31 2C 20 4D 73 6...|\n",
      "|null|[33 2C 20 4D 73 6...|\n",
      "|null| [32 2C 4D 73 67 33]|\n",
      "+----+--------------------+\n",
      "only showing top 20 rows\n",
      "\n"
     ]
    }
   ],
   "source": [
    "topic_string = topic_read.select(col(\"key\"),col(\"value\"))\n",
    "topic_string.show()"
   ]
  },
  {
   "cell_type": "code",
   "execution_count": 5,
   "metadata": {},
   "outputs": [
    {
     "name": "stdout",
     "output_type": "stream",
     "text": [
      "+----+-------+\n",
      "| key|  value|\n",
      "+----+-------+\n",
      "|null|1, Msg1|\n",
      "|null|3, Msg3|\n",
      "|null|1, Msg1|\n",
      "|null|3, Msg3|\n",
      "|null|2, Msg2|\n",
      "|null| 1,Msg1|\n",
      "|null|   Msg1|\n",
      "|   1|   Msg1|\n",
      "|   3|   Msg3|\n",
      "|   1|   Msg1|\n",
      "|   1|   Msg1|\n",
      "|   1|    Msg|\n",
      "|   3|   Msg3|\n",
      "|   4|   Msg4|\n",
      "|null| massae|\n",
      "|null|2, Msg2|\n",
      "|null|2, Msg2|\n",
      "|null|1, Msg1|\n",
      "|null|3, Msg3|\n",
      "|null| 2,Msg3|\n",
      "+----+-------+\n",
      "only showing top 20 rows\n",
      "\n"
     ]
    }
   ],
   "source": [
    "topic_string = topic_read.select(col(\"key\").cast(\"string\"),col(\"value\").cast(\"string\"))\n",
    "topic_string.show()"
   ]
  },
  {
   "cell_type": "code",
   "execution_count": 6,
   "metadata": {},
   "outputs": [],
   "source": [
    "topic_read_stream = spark.readStream\\\n",
    "    .format(\"kafka\")\\\n",
    "    .option(\"kafka.bootstrap.servers\",\"kafka:9092\")\\\n",
    "    .option(\"subscribe\",\"topic-kvspark\")\\\n",
    "    .load()"
   ]
  },
  {
   "cell_type": "code",
   "execution_count": 7,
   "metadata": {},
   "outputs": [
    {
     "name": "stdout",
     "output_type": "stream",
     "text": [
      "root\n",
      " |-- key: binary (nullable = true)\n",
      " |-- value: binary (nullable = true)\n",
      " |-- topic: string (nullable = true)\n",
      " |-- partition: integer (nullable = true)\n",
      " |-- offset: long (nullable = true)\n",
      " |-- timestamp: timestamp (nullable = true)\n",
      " |-- timestampType: integer (nullable = true)\n",
      "\n"
     ]
    }
   ],
   "source": [
    "topic_read_stream.printSchema()"
   ]
  },
  {
   "cell_type": "code",
   "execution_count": 8,
   "metadata": {},
   "outputs": [],
   "source": [
    "#Quando for Stream não se consegue visualizar por aqui\n",
    "\n",
    "topic_string_stream = topic_read_stream.select(col(\"key\").cast(\"string\"),col(\"value\").cast(\"string\"))"
   ]
  },
  {
   "cell_type": "code",
   "execution_count": 9,
   "metadata": {},
   "outputs": [],
   "source": [
    "topic_string_stream_output = topic_string_stream.writeStream\\\n",
    "    .format(\"kafka\")\\\n",
    "    .option(\"kafka.bootstrap.servers\",\"kafka:9092\")\\\n",
    "    .option(\"topic\",\"topic-kvspark-output\")\\\n",
    "    .option(\"checkpointLocation\",\"/user/tatiana/kafka_checkpoint\")\\\n",
    "    .trigger(continuous=\"5 second\")\\\n",
    "    .start()"
   ]
  },
  {
   "cell_type": "code",
   "execution_count": 10,
   "metadata": {},
   "outputs": [
    {
     "data": {
      "text/plain": [
       "{'message': 'Initializing sources',\n",
       " 'isDataAvailable': False,\n",
       " 'isTriggerActive': False}"
      ]
     },
     "execution_count": 10,
     "metadata": {},
     "output_type": "execute_result"
    }
   ],
   "source": [
    "topic_string_stream_output.status"
   ]
  },
  {
   "cell_type": "code",
   "execution_count": 11,
   "metadata": {},
   "outputs": [],
   "source": [
    "#se verificar no terminal o topico não aparecerá e você pensa que não funcionou\n",
    "# ele não aparece por que não existe nenhuma informação atual (Stream)\n",
    "# deverá produzir mensagens em outro terminal"
   ]
  },
  {
   "cell_type": "code",
   "execution_count": 12,
   "metadata": {},
   "outputs": [
    {
     "name": "stdout",
     "output_type": "stream",
     "text": [
      "+----+-------+\n",
      "| key|  value|\n",
      "+----+-------+\n",
      "|null|tatiana|\n",
      "|null| massae|\n",
      "|null| sakata|\n",
      "+----+-------+\n",
      "\n"
     ]
    }
   ],
   "source": [
    "topic_read2 = spark.read\\\n",
    "    .format(\"kafka\")\\\n",
    "    .option(\"kafka.bootstrap.servers\",\"kafka:9092\")\\\n",
    "    .option(\"subscribe\",\"topic-kvspark-output\")\\\n",
    "    .load()\n",
    "topic_string2 = topic_read2.select(col(\"key\").cast(\"string\"),col(\"value\").cast(\"string\"))\n",
    "topic_string2.show()"
   ]
  },
  {
   "cell_type": "code",
   "execution_count": 13,
   "metadata": {},
   "outputs": [],
   "source": [
    "topic_read_stream = spark.readStream\\\n",
    "    .format(\"kafka\")\\\n",
    "    .option(\"kafka.bootstrap.servers\",\"kafka:9092\")\\\n",
    "    .option(\"subscribe\",\"topic-kvspark\")\\\n",
    "    .option(\"startingOffsets\", \"earliest\")\\\n",
    "    .load()"
   ]
  },
  {
   "cell_type": "code",
   "execution_count": 14,
   "metadata": {},
   "outputs": [],
   "source": [
    "topic_string_stream_output = topic_string_stream.writeStream\\\n",
    "    .format(\"kafka\")\\\n",
    "    .option(\"kafka.bootstrap.servers\",\"kafka:9092\")\\\n",
    "    .option(\"topic\",\"topic-kvspark-\")\\\n",
    "    .option(\"checkpointLocation\",\"/user/tatiana/kafka_checkpoint3\")\\\n",
    "    .trigger(continuous=\"5 second\")\\\n",
    "    .start()"
   ]
  },
  {
   "cell_type": "code",
   "execution_count": 15,
   "metadata": {},
   "outputs": [
    {
     "data": {
      "text/plain": [
       "{'message': 'Initializing sources',\n",
       " 'isDataAvailable': False,\n",
       " 'isTriggerActive': False}"
      ]
     },
     "execution_count": 15,
     "metadata": {},
     "output_type": "execute_result"
    }
   ],
   "source": [
    "topic_string_stream_output.status"
   ]
  },
  {
   "cell_type": "code",
   "execution_count": 17,
   "metadata": {},
   "outputs": [
    {
     "name": "stdout",
     "output_type": "stream",
     "text": [
      "+----+-------+---------+------+\n",
      "| key|  value|partition|offset|\n",
      "+----+-------+---------+------+\n",
      "|null|1, Msg1|        1|     0|\n",
      "|null|3, Msg3|        1|     1|\n",
      "|null|1, Msg1|        1|     2|\n",
      "|null|3, Msg3|        1|     3|\n",
      "|null|2, Msg2|        1|     4|\n",
      "|null| 1,Msg1|        1|     5|\n",
      "|null|   Msg1|        1|     6|\n",
      "|   1|   Msg1|        1|     7|\n",
      "|   3|   Msg3|        1|     8|\n",
      "|   1|   Msg1|        1|     9|\n",
      "|   1|   Msg1|        1|    10|\n",
      "|   1|    Msg|        1|    11|\n",
      "|   3|   Msg3|        1|    12|\n",
      "|   4|   Msg4|        1|    13|\n",
      "|null| massae|        1|    14|\n",
      "|null|2, Msg2|        0|     0|\n",
      "|null|2, Msg2|        0|     1|\n",
      "|null|1, Msg1|        0|     2|\n",
      "|null|3, Msg3|        0|     3|\n",
      "|null| 2,Msg3|        0|     4|\n",
      "+----+-------+---------+------+\n",
      "only showing top 20 rows\n",
      "\n"
     ]
    }
   ],
   "source": [
    "topic_read2 = spark.read\\\n",
    "    .format(\"kafka\")\\\n",
    "    .option(\"kafka.bootstrap.servers\",\"kafka:9092\")\\\n",
    "    .option(\"subscribe\",\"topic-kvspark\")\\\n",
    "    .load()\n",
    "topic_string2 = topic_read2.select(col(\"key\").cast(\"string\"),col(\"value\").cast(\"string\"),\"partition\",\"offset\")\n",
    "topic_string2.show()"
   ]
  },
  {
   "cell_type": "code",
   "execution_count": 18,
   "metadata": {},
   "outputs": [
    {
     "name": "stdout",
     "output_type": "stream",
     "text": [
      "+----+-------+---------+------+\n",
      "| key|  value|partition|offset|\n",
      "+----+-------+---------+------+\n",
      "|null|tatiana|        0|     0|\n",
      "|null| massae|        0|     1|\n",
      "|null| sakata|        0|     2|\n",
      "+----+-------+---------+------+\n",
      "\n"
     ]
    }
   ],
   "source": [
    "topic_read2 = spark.read\\\n",
    "    .format(\"kafka\")\\\n",
    "    .option(\"kafka.bootstrap.servers\",\"kafka:9092\")\\\n",
    "    .option(\"subscribe\",\"topic-kvspark-output\")\\\n",
    "    .load()\n",
    "topic_string2 = topic_read2.select(col(\"key\").cast(\"string\"),col(\"value\").cast(\"string\"),\"partition\",\"offset\")\n",
    "topic_string2.show()"
   ]
  },
  {
   "cell_type": "code",
   "execution_count": 19,
   "metadata": {},
   "outputs": [],
   "source": [
    "topic_string_stream_output = topic_string_stream.writeStream\\\n",
    "    .format(\"csv\")\\\n",
    "    .option(\"checkpointLocation\",\"/user/tatiana/kafka_checkpoint4\")\\\n",
    "    .option(\"path\",\"/user/tatiana/kafka/topic-kvspark-output\")\\\n",
    "    .start()"
   ]
  },
  {
   "cell_type": "code",
   "execution_count": 20,
   "metadata": {},
   "outputs": [
    {
     "name": "stdout",
     "output_type": "stream",
     "text": [
      "Found 2 items\r\n",
      "drwxr-xr-x   - root supergroup          0 2022-11-22 00:10 /user/tatiana/kafka/topic-kvspark-output/_spark_metadata\r\n",
      "-rw-r--r--   2 root supergroup          0 2022-11-22 00:10 /user/tatiana/kafka/topic-kvspark-output/part-00000-d71456c9-7158-479d-b240-6a4ebd875e1f-c000.csv\r\n"
     ]
    }
   ],
   "source": [
    "!hdfs dfs -ls /user/tatiana/kafka/topic-kvspark-output"
   ]
  },
  {
   "cell_type": "markdown",
   "metadata": {},
   "source": [
    "<div class=\"alert alert-block alert-warning\">\n",
    "    IMPORTANTE. \n",
    "    Vá na aba “Kernel” e aperte “Shutdown” para encerrar a sessão.\n",
    "</div>"
   ]
  }
 ],
 "metadata": {
  "kernelspec": {
   "display_name": "PySpark",
   "language": "python",
   "name": "pyspark"
  },
  "language_info": {
   "codemirror_mode": {
    "name": "ipython",
    "version": 3
   },
   "file_extension": ".py",
   "mimetype": "text/x-python",
   "name": "python",
   "nbconvert_exporter": "python",
   "pygments_lexer": "ipython3",
   "version": "3.6.10"
  }
 },
 "nbformat": 4,
 "nbformat_minor": 2
}
