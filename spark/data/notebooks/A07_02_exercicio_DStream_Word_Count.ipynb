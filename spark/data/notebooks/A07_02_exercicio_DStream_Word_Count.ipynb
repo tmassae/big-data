{
 "cells": [
  {
   "cell_type": "markdown",
   "metadata": {},
   "source": [
    "Autor: Tatiana Massae Sakata"
   ]
  },
  {
   "cell_type": "markdown",
   "metadata": {},
   "source": [
    "#  Módulo Spark"
   ]
  },
  {
   "cell_type": "markdown",
   "metadata": {},
   "source": [
    "## <a name=\"inicio\"> Exercicios Aula 7 - DStream - Word Count </a>"
   ]
  },
  {
   "cell_type": "markdown",
   "metadata": {},
   "source": [
    "* [Inicio - Parte 1](#inicio)\n",
    "* [Questão 01](#questao01)\n",
    "* [Questão 02](#questao02)\n",
    "* [Questão 03](#questao03)"
   ]
  },
  {
   "cell_type": "markdown",
   "metadata": {},
   "source": [
    "### <a name=\"questao01\"> Questão 1. Criar o diretório no hdfs “/user/rodrigo/stream” </a>\n",
    "\n",
    "[voltar ao ínicio](#inicio)"
   ]
  },
  {
   "cell_type": "code",
   "execution_count": 1,
   "metadata": {},
   "outputs": [
    {
     "name": "stdout",
     "output_type": "stream",
     "text": [
      "mkdir: `/user/tatiana/stream': File exists\r\n"
     ]
    }
   ],
   "source": [
    "!hdfs dfs -mkdir /user/tatiana/stream"
   ]
  },
  {
   "cell_type": "markdown",
   "metadata": {},
   "source": [
    "###  <a name=\"questao02\"> Questão 2. Criar uma aplicação para contar palavras a cada 10 segundos da porta 9998 e exibir no console durante 50 segundos </a>\n",
    "\n",
    "[voltar ao ínicio](#inicio)"
   ]
  },
  {
   "cell_type": "code",
   "execution_count": 2,
   "metadata": {},
   "outputs": [],
   "source": [
    "from pyspark import SparkContext\n",
    "from pyspark.streaming import StreamingContext\n",
    "from time import sleep"
   ]
  },
  {
   "cell_type": "code",
   "execution_count": 3,
   "metadata": {},
   "outputs": [],
   "source": [
    "conf = SparkConf().setMaster(\"local[*]\").setAppName(\"DStream Word Count\")\n",
    "sc = SparkContext.getOrCreate()\n",
    "ssc = StreamingContext(sc,10)"
   ]
  },
  {
   "cell_type": "code",
   "execution_count": 4,
   "metadata": {},
   "outputs": [],
   "source": [
    "dstream = ssc.socketTextStream(\"localhost\", 9998)"
   ]
  },
  {
   "cell_type": "code",
   "execution_count": 5,
   "metadata": {},
   "outputs": [],
   "source": [
    "wordcount = dstream.flatMap(lambda linha: linha.split(\" \"))\\\n",
    "                    .map(lambda palavra: (palavra,1))\\\n",
    "                    .reduceByKey(lambda chave1, chave2: chave1 + chave2)\n",
    "wordcount.pprint()"
   ]
  },
  {
   "cell_type": "code",
   "execution_count": 6,
   "metadata": {},
   "outputs": [
    {
     "name": "stdout",
     "output_type": "stream",
     "text": [
      "-------------------------------------------\n",
      "Time: 2022-11-16 19:46:00\n",
      "-------------------------------------------\n",
      "\n",
      "-------------------------------------------\n",
      "Time: 2022-11-16 19:46:10\n",
      "-------------------------------------------\n",
      "('massae', 1)\n",
      "('tatiana', 1)\n",
      "('sakata', 1)\n",
      "\n",
      "-------------------------------------------\n",
      "Time: 2022-11-16 19:46:20\n",
      "-------------------------------------------\n",
      "('a', 1)\n",
      "('b', 1)\n",
      "('c', 1)\n",
      "('maria', 1)\n",
      "('eder', 1)\n",
      "('d', 1)\n",
      "('alice', 1)\n",
      "\n",
      "-------------------------------------------\n",
      "Time: 2022-11-16 19:46:30\n",
      "-------------------------------------------\n",
      "('g', 1)\n",
      "('i', 1)\n",
      "('l', 1)\n",
      "('e', 1)\n",
      "('m', 1)\n",
      "('j', 1)\n",
      "('k', 1)\n",
      "('n', 1)\n",
      "('d', 1)\n",
      "('h', 1)\n",
      "...\n",
      "\n",
      "-------------------------------------------\n",
      "Time: 2022-11-16 19:46:40\n",
      "-------------------------------------------\n",
      "('maria', 1)\n",
      "('alice', 1)\n",
      "\n"
     ]
    }
   ],
   "source": [
    "ssc.start()\n",
    "sleep(50)\n",
    "ssc.stop()"
   ]
  },
  {
   "cell_type": "markdown",
   "metadata": {},
   "source": [
    "###  <a name=\"questao03\"> Questão 3. Criar uma aplicação para contar palavras a cada 10 segundos da porta 9998 e salvar os dados no namenode no diretório “hdfs://namenode/user/rodrigo/stream/word_count” durante 50 segundos </a>\n",
    "\n",
    "[voltar ao ínicio](#inicio)"
   ]
  },
  {
   "cell_type": "code",
   "execution_count": 17,
   "metadata": {},
   "outputs": [],
   "source": [
    "conf = SparkConf().setMaster(\"local[*]\").setAppName(\"DStream Word Count\")\n",
    "sc = SparkContext.getOrCreate()\n",
    "ssc = StreamingContext(sc,10)"
   ]
  },
  {
   "cell_type": "code",
   "execution_count": 18,
   "metadata": {},
   "outputs": [],
   "source": [
    "dstream = ssc.socketTextStream(\"localhost\", 9998)"
   ]
  },
  {
   "cell_type": "code",
   "execution_count": 19,
   "metadata": {},
   "outputs": [],
   "source": [
    "wordcount = dstream.flatMap(lambda linha: linha.split(\" \"))\\\n",
    "                    .map(lambda palavra: (palavra,1))\\\n",
    "                    .reduceByKey(lambda chave1, chave2: chave1 + chave2)"
   ]
  },
  {
   "cell_type": "code",
   "execution_count": 20,
   "metadata": {},
   "outputs": [],
   "source": [
    "wordcount.saveAsTextFiles(\"/user/tatiana/stream/word_count\")"
   ]
  },
  {
   "cell_type": "code",
   "execution_count": 21,
   "metadata": {},
   "outputs": [],
   "source": [
    "ssc.start()\n",
    "sleep(50)\n",
    "ssc.stop()"
   ]
  },
  {
   "cell_type": "code",
   "execution_count": 28,
   "metadata": {},
   "outputs": [
    {
     "name": "stdout",
     "output_type": "stream",
     "text": [
      "Found 5 items\r\n",
      "drwxr-xr-x   - root supergroup          0 2022-11-16 19:52 /user/tatiana/stream/word_count-1668628320000\r\n",
      "drwxr-xr-x   - root supergroup          0 2022-11-16 19:52 /user/tatiana/stream/word_count-1668628330000\r\n",
      "drwxr-xr-x   - root supergroup          0 2022-11-16 19:52 /user/tatiana/stream/word_count-1668628340000\r\n",
      "drwxr-xr-x   - root supergroup          0 2022-11-16 19:52 /user/tatiana/stream/word_count-1668628350000\r\n",
      "drwxr-xr-x   - root supergroup          0 2022-11-16 19:52 /user/tatiana/stream/word_count-1668628360000\r\n"
     ]
    }
   ],
   "source": [
    "!hdfs dfs -ls /user/tatiana/stream"
   ]
  },
  {
   "cell_type": "code",
   "execution_count": 31,
   "metadata": {},
   "outputs": [
    {
     "name": "stdout",
     "output_type": "stream",
     "text": [
      "('maria', 1)\r\n"
     ]
    }
   ],
   "source": [
    "!hdfs dfs -cat /user/tatiana/stream/word_count-1668628330000/part-00005"
   ]
  },
  {
   "cell_type": "markdown",
   "metadata": {},
   "source": [
    "<div class=\"alert alert-block alert-warning\">\n",
    "    IMPORTANTE. \n",
    "    Vá na aba “Kernel” e aperte “Shutdown” para encerrar a sessão.\n",
    "</div>"
   ]
  }
 ],
 "metadata": {
  "kernelspec": {
   "display_name": "PySpark",
   "language": "python",
   "name": "pyspark"
  },
  "language_info": {
   "codemirror_mode": {
    "name": "ipython",
    "version": 3
   },
   "file_extension": ".py",
   "mimetype": "text/x-python",
   "name": "python",
   "nbconvert_exporter": "python",
   "pygments_lexer": "ipython3",
   "version": "3.6.10"
  }
 },
 "nbformat": 4,
 "nbformat_minor": 2
}
