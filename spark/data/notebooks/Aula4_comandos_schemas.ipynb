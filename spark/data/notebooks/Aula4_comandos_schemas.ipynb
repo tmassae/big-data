{
 "cells": [
  {
   "cell_type": "code",
   "execution_count": null,
   "metadata": {},
   "outputs": [],
   "source": [
    "from pyspark.sql.types import *\n",
    "import pandas as pd"
   ]
  },
  {
   "cell_type": "code",
   "execution_count": null,
   "metadata": {},
   "outputs": [],
   "source": [
    "setor = [['1', 'vendas'],\n",
    "         ['2', 'TI'],\n",
    "         ['3', 'RH']]\n",
    "            \n",
    "df = pd.DataFrame(setor, columns=['id', 'Setor'])\n",
    "\n",
    "print(df)\n"
   ]
  },
  {
   "cell_type": "code",
   "execution_count": null,
   "metadata": {},
   "outputs": [],
   "source": [
    "df.to_csv('setor.csv')"
   ]
  },
  {
   "cell_type": "code",
   "execution_count": null,
   "metadata": {},
   "outputs": [],
   "source": [
    "columns_list = [\n",
    "    StructField('id', StringType()),\n",
    "    StructField('setor', StringType())\n",
    "]\n",
    "\n",
    "setor_schema = StructType(columns_list)\n",
    "\n",
    "setor_df = spark.read.option('header','true').schema(setor_schema).csv('setor.csv')"
   ]
  },
  {
   "cell_type": "code",
   "execution_count": null,
   "metadata": {},
   "outputs": [],
   "source": [
    "from pyspark.sql.types import *\n",
    "\n",
    "columns_list = [\n",
    "    StructField(\"id\", StringType()),\n",
    "    StructField(\"setor\", StringType())\n",
    "]\n",
    "\n",
    "setor_schema = StructType(columns_list)\n",
    "\n",
    "Schema = Row(\"id\", \"setor\")\n",
    "\n",
    "dados_teste = [(Row (1,\"vendas\"), Row(2,\"TI\"), Row(3,\"RH\"))]\n",
    "\n",
    "setor_df = spark.createDataFrame(data = dados_teste)"
   ]
  },
  {
   "cell_type": "code",
   "execution_count": null,
   "metadata": {},
   "outputs": [],
   "source": [
    "from pyspark.sql import Row\n",
    "\n",
    "Schema = Row(\"id\", \"setor\")\n",
    "\n",
    "dados_teste = [Schema (1,\"vendas\"), Schema(2,\"TI\"), Schema(3,\"RH\")]\n",
    "\n",
    "teste_df = spark.createDataFrame(data = dados_teste)\n",
    "\n",
    "teste_df.printSchema()"
   ]
  }
 ],
 "metadata": {
  "kernelspec": {
   "display_name": "PySpark",
   "language": "python",
   "name": "pyspark"
  },
  "language_info": {
   "codemirror_mode": {
    "name": "ipython",
    "version": 3
   },
   "file_extension": ".py",
   "mimetype": "text/x-python",
   "name": "python",
   "nbconvert_exporter": "python",
   "pygments_lexer": "ipython3",
   "version": "3.6.10"
  }
 },
 "nbformat": 4,
 "nbformat_minor": 2
}
